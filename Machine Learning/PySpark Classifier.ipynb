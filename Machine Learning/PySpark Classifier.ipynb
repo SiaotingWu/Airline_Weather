{
 "cells": [
  {
   "cell_type": "code",
   "execution_count": null,
   "id": "2323d318",
   "metadata": {},
   "outputs": [],
   "source": [
    "#匯入套件\n",
    "from pyspark.ml import Pipeline\n",
    "from pyspark.ml.classification import RandomForestClassifier\n",
    "from pyspark.ml.feature import IndexToString, StringIndexer, VectorIndexer, VectorAssembler\n",
    "from pyspark.ml.evaluation import MulticlassClassificationEvaluator\n",
    "\n",
    "#讀取資料\n",
    "data = spark.read.parquet('withWeatherDelayencodever2',header=True, inferSchema=True)\n",
    "\n",
    "#設定features欄位合併單一個欄位並向量化，輸出成features欄位\n",
    "assembler = VectorAssembler(inputCols=['Year', 'Quarter','Month','DayofMonth','DayOfWeek','CRSDepTime','CRSArrTime','Distance','AWND','PRCP','TMAX','TMIN','WSF2',\n",
    "                                       'WSF5','SNOW','WT01', 'WT02', 'WT03','WT04','WT05','WT06', 'WT07', 'WT08','WT09','WT10','WT11','WT18','MFR Year', 'Origin','Dest',\n",
    "                                       'Tail Number','Manufacturer Name', 'Model', 'Airline_AA', 'Airline_AS', 'Airline_B6', 'Airline_DL','Airline_F9', 'Airline_G4', 'Airline_HA',\n",
    "                                       'Airline_NK', 'Airline_UA', 'Airline_VX', 'Airline_WN', 'TypeOfAircraft_Balloon', 'TypeOfAircraft_Fixed Wing Multi-Engine',\n",
    "                                       'TypeOfAircraft_Fixed Wing Single-Engine', 'TypeOfAircraft_Rotorcraft','TypeOfEngine_4 Cycle', 'TypeOfEngine_None', 'TypeOfEngine_Reciprocating',\n",
    "                                       'TypeOfEngine_Turbo-fan', 'TypeOfEngine_Turbo-jet', 'TypeOfEngine_Turbo-prop', 'TypeOfEngine_Turbo-shaft'],\n",
    "                            outputCol='indexedFeatures')\n",
    "featureIndexer = assembler.transform(data)\n",
    "data = featureIndexer.select(['indexedFeatures', 'ArrivalDelayGroups30'])\n",
    "\n",
    "#將ArrivalDelayGroups30重新編碼輸出成label欄位\n",
    "labelIndexer = StringIndexer(inputCol='ArrivalDelayGroups30', outputCol='indexedLabel').fit(data)\n",
    "data = labelIndexer.transform(data)\n",
    "data = data.select(['indexedFeatures','indexedLabel'])\n",
    "\n",
    "#設定train,test比重\n",
    "(trainingData, testData) = data.randomSplit([0.8, 0.2])\n",
    "\n",
    "#設定模型抓取X,y給予參數，train模型，及模型參數\n",
    "rf = RandomForestClassifier(labelCol=\"indexedLabel\", featuresCol=\"indexedFeatures\", numTrees=20)\n",
    "\n",
    "#將prediction重新編碼輸出成predictionLabel欄位\n",
    "labelConverter = IndexToString(inputCol=\"prediction\", outputCol=\"predictedLabel\",\n",
    "                               labels=labelIndexer.labels)\n",
    "\n",
    "#用這個串接多個設定欄位\n",
    "pipeline = Pipeline(stages=[labelIndexer, rf, labelConverter])\n",
    "\n",
    "#將trainingData套入模型\n",
    "model = pipeline.fit(trainingData)\n",
    "\n",
    "#預估模型\n",
    "predictions = model.transform(testData)\n",
    "\n",
    "#設定r2評估模型，並印出\n",
    "evaluator = MulticlassClassificationEvaluator(\n",
    "    labelCol=\"indexedLabel\", predictionCol=\"prediction\", metricName=\"accuracy\")\n",
    "accuracy = evaluator.evaluate(predictions)\n",
    "print(\"Accuracy is = %g\" % accuracy)\n",
    "print(\"Test Error = %g\" % (1.0 - accuracy))\n",
    "rfModel = model.stages[2]\n",
    "print(rfModel)  # summary only"
   ]
  }
 ],
 "metadata": {
  "kernelspec": {
   "display_name": "Python 3 (ipykernel)",
   "language": "python",
   "name": "python3"
  },
  "language_info": {
   "codemirror_mode": {
    "name": "ipython",
    "version": 3
   },
   "file_extension": ".py",
   "mimetype": "text/x-python",
   "name": "python",
   "nbconvert_exporter": "python",
   "pygments_lexer": "ipython3",
   "version": "3.9.12"
  }
 },
 "nbformat": 4,
 "nbformat_minor": 5
}
