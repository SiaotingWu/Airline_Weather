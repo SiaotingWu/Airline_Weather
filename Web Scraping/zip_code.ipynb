{
 "cells": [
  {
   "cell_type": "markdown",
   "id": "dd6a8e98",
   "metadata": {},
   "source": [
    "# 抓取missing_data zip-code"
   ]
  },
  {
   "cell_type": "code",
   "execution_count": 84,
   "id": "65f84b85",
   "metadata": {},
   "outputs": [
    {
     "name": "stdout",
     "output_type": "stream",
     "text": [
      "['OAJ', 'BOS', 'EWN', 'CWA', 'GRK', 'PWM', 'BUF', 'ROC', 'BQK', 'BMI', 'PIT', 'OMA', 'ATW', 'BQN', 'PSE', 'SJC', 'SWF', 'PVD', 'ORH', 'PSP', 'MYR', 'VPS', 'FNT', 'FSD', 'FAT', 'EUG', 'OGS', 'USA', 'PVU', 'AZA', 'PSM', 'LCK', 'BLV', 'BOI', 'GJT', 'OWB', 'ISN', 'SBP', 'MMH', 'JAC', 'HDN', 'ITH', 'COD', 'ESC', 'BJI', 'SGU', 'CIU', 'BGM', 'SCE', 'DVL', 'HYS', 'EGE', 'LNY', 'LBE', 'GUC', 'SCC', 'PSG', 'WRG', 'ADK', 'SPN', 'ROP', 'CLL', 'HOB', 'DUT', 'BKG', 'TYR', 'YUM', 'MEI', 'PIB', 'ROW', 'EAR', 'LWB', 'SHD', 'LBL', 'PRC', 'MHK', 'TXK', 'PGV', 'PQI', 'HHH', 'DLG', 'GST', 'WYS', 'XWA', 'ALS', 'FOD', 'TBN']\n"
     ]
    }
   ],
   "source": [
    "# 讀取txt檔，並刪除換行'\\n'\n",
    "\n",
    "miss = open(\"./data/missing_data.txt\")\n",
    "data = miss.read().splitlines()\n",
    "miss_data = []\n",
    "for line in data:\n",
    "    miss_data.append(line)\n",
    "print(miss_data)"
   ]
  },
  {
   "cell_type": "code",
   "execution_count": 2,
   "id": "5a50080b",
   "metadata": {},
   "outputs": [],
   "source": [
    "# 使用BOS Airport先抓取一筆資料\n",
    "\n",
    "from selenium import webdriver\n",
    "from selenium.webdriver.common.keys import Keys\n",
    "from selenium.webdriver.chrome.service import Service\n",
    "from selenium.webdriver.common.by import By\n",
    "from bs4 import BeautifulSoup\n",
    "import time\n",
    "\n",
    "s = Service(\"./chromedriver.exe\")\n",
    "driver = webdriver.Chrome(service=s)\n",
    "\n",
    "driver.get('https://www.unitedstateszipcodes.org/')\n",
    "\n",
    "time.sleep(1)\n",
    "\n",
    "# 進入網頁之後要在搜尋處key BOS Airport並搜尋\n",
    "element = driver.find_element(By.CLASS_NAME, \"form-control.tt-input\")\n",
    "element.send_keys(\"BOS\"+\" Airport\") \n",
    "\n",
    "button = driver.find_element(By.CLASS_NAME, \"fa.fa-search\")\n",
    "button.click()\n",
    "\n",
    "time.sleep(1)\n",
    "\n",
    "# 進入後要撈取zip-code data\n",
    "h1element = driver.find_element(By.TAG_NAME,'h1')\n",
    "code = h1element.text.split(\" \")[2]\n",
    "\n",
    "driver.close()\n"
   ]
  },
  {
   "cell_type": "code",
   "execution_count": 4,
   "id": "14b52dec",
   "metadata": {},
   "outputs": [
    {
     "data": {
      "text/plain": [
       "'02128'"
      ]
     },
     "execution_count": 4,
     "metadata": {},
     "output_type": "execute_result"
    }
   ],
   "source": [
    "code"
   ]
  },
  {
   "cell_type": "code",
   "execution_count": 116,
   "id": "d6b90163",
   "metadata": {
    "scrolled": false
   },
   "outputs": [
    {
     "name": "stdout",
     "output_type": "stream",
     "text": [
      "can't find codeBQN\n",
      "can't find codePVU\n",
      "can't find codeSPN\n",
      "can't find codeROP\n",
      "{'OAJ': '28574', 'BOS': '02128', 'EWN': '28562', 'CWA': '54455', 'GRK': '76549', 'PWM': '04102', 'BUF': '14225', 'ROC': '14624', 'BQK': '31525', 'BMI': '61704', 'PIT': '15231', 'OMA': '51510', 'ATW': '54914', 'BQN': None, 'PSE': '34996', 'SJC': '95110', 'SWF': '12553', 'PVD': '02886', 'ORH': '01602', 'PSP': '92262', 'MYR': '29577', 'VPS': '32542', 'FNT': '48507', 'FSD': '57104', 'FAT': '93727', 'EUG': '97402', 'OGS': '13669', 'USA': 'MI', 'PVU': None, 'AZA': '36608', 'PSM': '03801', 'LCK': '43217', 'BLV': '62258', 'BOI': '83705', 'GJT': '81506', 'OWB': '42301', 'ISN': '58801', 'SBP': '93401', 'MMH': '93546', 'JAC': '83001', 'HDN': '81639', 'ITH': '14850', 'COD': '82414', 'ESC': '49829', 'BJI': '56601', 'SGU': '84790', 'CIU': '49788', 'BGM': '13790', 'SCE': '29033', 'DVL': '58301', 'HYS': '67601', 'EGE': '81637', 'LNY': '96763', 'LBE': '15650', 'GUC': '81230', 'SCC': '99734', 'PSG': '99833', 'WRG': '99929', 'ADK': '99546', 'SPN': None, 'ROP': None, 'CLL': '77845', 'HOB': '88240', 'DUT': '99685', 'BKG': '65672', 'TYR': '75704', 'YUM': '85365', 'MEI': '39307', 'PIB': '39459', 'ROW': '88203', 'EAR': '68847', 'LWB': '24901', 'SHD': '24486', 'LBL': '67901', 'PRC': '86301', 'MHK': '66503', 'TXK': '71854', 'PGV': '27834', 'PQI': '04769', 'HHH': '29926', 'DLG': '99576', 'GST': '99826', 'WYS': '59758', 'XWA': 'Area,', 'ALS': '99701', 'FOD': '50501', 'TBN': '65473'}\n"
     ]
    },
    {
     "data": {
      "text/plain": [
       "<function TextIOWrapper.close()>"
      ]
     },
     "execution_count": 116,
     "metadata": {},
     "output_type": "execute_result"
    }
   ],
   "source": [
    "# 使用迴圈抓取 MISS DATA 87 ZIP-CODE\n",
    "\n",
    "from selenium import webdriver\n",
    "from selenium.webdriver.common.keys import Keys\n",
    "from selenium.webdriver.chrome.service import Service\n",
    "from selenium.webdriver.common.by import By\n",
    "from bs4 import BeautifulSoup\n",
    "import time\n",
    "\n",
    "\n",
    "def getCode(nicknameList):\n",
    "    s = Service(\"./chromedriver.exe\")\n",
    "    driver = webdriver.Chrome(service=s)\n",
    "\n",
    "    driver.get('https://www.unitedstateszipcodes.org/')\n",
    "\n",
    "    time.sleep(1)\n",
    "    result = {};\n",
    "    # 進入網頁之後要在搜尋處key BOS Airport並搜尋\n",
    "    for nickname in nicknameList:\n",
    "        try:\n",
    "            element = driver.find_element(By.CLASS_NAME, \"form-control.tt-input\")\n",
    "        except:   \n",
    "            element = driver.find_element(By.CLASS_NAME, \"form-control.js-bound\")\n",
    "        \n",
    "        element.send_keys(Keys.CONTROL, 'a')\n",
    "        searchKey = (nickname + \" Airport\")\n",
    "        element.send_keys(searchKey) \n",
    "        button = driver.find_element(By.CLASS_NAME, \"fa.fa-search\")\n",
    "        button.click()\n",
    "\n",
    "        time.sleep(1)\n",
    "\n",
    "        # 進入後要撈取zip-code data\n",
    "        try:\n",
    "            h1element = driver.find_element(By.TAG_NAME,'h1')\n",
    "            result[nickname] = h1element.text.split(\" \")[2]\n",
    "        except Exception:\n",
    "            result[nickname] = None # 如果沒有data，value=None\n",
    "            print(\"can't find code \"+nickname)\n",
    "    driver.close()\n",
    "    return result\n",
    "\n",
    "# 讀取 missing_data.txt，並刪除換行'\\n'\n",
    "def readDataSource():\n",
    "    miss = open(\"./data/missing_data.txt\")\n",
    "    data = miss.read().splitlines()\n",
    "    miss_data = []\n",
    "    for line in data:\n",
    "        miss_data.append(line)\n",
    "    return miss_data\n",
    "\n",
    "\n",
    "readDataSource()    \n",
    "resultList= getCode(readDataSource())\n",
    "\n",
    "# 測試\n",
    "# test=['OAJ','BQN','PVU','SPN','ROP','BOS']\n",
    "# resultList= getCode(test)\n",
    "\n",
    "print(resultList)\n",
    "\n",
    "# Ouput txt檔\n",
    "file = open(\"miss_zipcode.txt\",\"w\")\n",
    "for key in resultList.keys():\n",
    "    file.write(str(key)+\" \"+str(resultList[key]))\n",
    "    file.write(\"\\n\")\n",
    "file.close()\n"
   ]
  },
  {
   "cell_type": "code",
   "execution_count": null,
   "id": "ab7c6bca",
   "metadata": {},
   "outputs": [],
   "source": [
    "# Ouput txt檔\n",
    "file = open(\"miss_zipcode.txt\",\"w\")\n",
    "for key in resultList.keys():\n",
    "    file.write(str(key)+\" \"+str(resultList[key]))\n",
    "    file.write(\"\\n\")\n",
    "file.close()"
   ]
  },
  {
   "cell_type": "markdown",
   "id": "3768cbd5",
   "metadata": {},
   "source": [
    "# 抓取nickname_airport zip-code"
   ]
  },
  {
   "cell_type": "code",
   "execution_count": 23,
   "id": "7a52b4e1",
   "metadata": {},
   "outputs": [
    {
     "name": "stdout",
     "output_type": "stream",
     "text": [
      "can't find code ATL\n",
      "can't find code IAH\n",
      "can't find code TUL\n",
      "can't find code ORF\n",
      "can't find code BDL\n",
      "can't find code ORD\n",
      "can't find code MCO\n",
      "can't find code BQN\n",
      "can't find code EWR\n",
      "can't find code SLC\n",
      "can't find code LGB\n",
      "can't find code SAN\n",
      "can't find code STX\n",
      "can't find code OKC\n",
      "can't find code PVU\n",
      "can't find code ONT\n",
      "can't find code PPG\n",
      "can't find code ANC\n",
      "can't find code SPN\n",
      "can't find code ROP\n",
      "can't find code ACK\n",
      "can't find code ACT\n",
      "{'ATL': None, 'ABY': '31721', 'MOB': '36608', 'EVV': '47725', 'DTW': '48242', 'OAJ': '28574', 'BOS': '02128', 'SYR': '13212', 'EWN': '28562', 'MGM': '36108', 'LGA': '11371', 'MSP': '55450', 'CLE': '44135', 'CLT': '28208', 'FAY': '28306', 'JFK': '11430', 'STL': '63134', 'CMH': '43219', 'IND': '46241', 'TYS': '37701', 'CWA': '54455', 'AEX': '71303', 'GRK': '76549', 'SAT': '78216', 'PIA': '61607', 'IAH': None, 'DFW': '75261', 'RIC': '23250', 'PWM': '04102', 'AZO': '49002', 'CVG': '45275', 'TRI': '37617', 'IAD': '20166', 'AVL': '28732', 'BTR': '70807', 'BUF': '14225', 'GRR': '49512', 'BIS': '58504', 'CHA': '37421', 'TVC': '49686', 'FSM': '72903', 'BTV': '05403', 'MCI': '64153', 'GRB': '54313', 'TUL': None, 'VLD': '31601', 'CRW': '25311', 'XNA': '72713', 'ROC': '14624', 'SAV': '31408', 'ROA': '24012', 'MDT': '17057', 'MSY': '70062', 'BNA': '37214', 'RDU': '27560', 'MKE': '53207', 'GNV': '32609', 'TPA': '33607', 'GSO': '27409', 'CHO': '22911', 'BGR': '04401', 'GFK': '58203', 'BQK': '31525', 'MEM': '38116', 'ILM': '28405', 'BMI': '61704', 'ORF': None, 'MHT': '03103', 'DAY': '45377', 'GSP': '29651', 'LEX': '40510', 'SDF': '40209', 'BDL': None, 'MBS': '48623', 'MOT': '58703', 'CAE': '29170', 'CSG': '31909', 'DSM': '50321', 'DHN': '36303', 'ELM': '14845', 'PIT': '15231', 'JAX': '32218', 'DCA': '22202', 'ORD': None, 'SGF': '65802', 'SHV': '71109', 'HSV': '35824', 'OMA': '51510', 'TLH': '32310', 'MSN': '53704', 'LAN': '48906', 'BWI': '21061', 'CHS': '29418', 'LIT': '72202', 'RSW': '33913', 'MCO': None, 'FAR': '58102', 'ATW': '54914', 'CAK': '44720', 'HRL': '78550', 'HPN': '10604', 'PHL': '19029', 'MLI': '61264', 'BQN': None, 'SFO': '94128', 'EWR': None, 'FLL': '33315', 'SLC': None, 'PSE': '34996', 'SJC': '95110', 'LGB': None, 'LAS': '89119', 'LAX': '90045', 'PBI': '33406', 'SJU': '00981', 'SRQ': '34243', 'AUS': '78719', 'SWF': '12553', 'DEN': '80249', 'SEA': '98158', 'HOU': '77061', 'PVD': '02886', 'SMF': '95837', 'STT': '44720', 'PDX': '97218', 'ORH': '01602', 'SAN': None, 'RNO': '89502', 'ALB': '12205', 'PHX': '85034', 'OAK': '94621', 'PSP': '92262', 'STX': None, 'BUR': '91505', 'DAB': '32114', 'ABQ': '87106', 'BRO': '78521', 'ELP': '79925', 'OKC': None, 'GPT': '39503', 'SBN': '46628', 'MFE': '78503', 'LCH': '70607', 'LFT': '70508', 'MYR': '29577', 'RST': '55902', 'LNK': '68524', 'BHM': '35212', 'AGS': '30906', 'JAN': '39208', 'CID': '52404', 'ECP': '32409', 'VPS': '32542', 'EYW': '33040', 'ABE': '18109', 'SFB': '32773', 'BIL': '59105', 'FNT': '48507', 'MSO': '59808', 'IDA': '83402', 'SCK': '95206', 'TOL': '43558', 'FSD': '57104', 'HTS': '25704', 'FAT': '93727', 'EUG': '97402', 'BLI': '98226', 'PGD': '33982', 'STC': '56304', 'PIE': '33762', 'PBG': '12903', 'OGS': '13669', 'USA': 'MI', 'SPI': '62707', 'PVU': None, 'AZA': '36608', 'MTJ': '81401', 'FWA': '46809', 'PSM': '03801', 'TTN': '08628', 'IAG': '14304', 'LCK': '43217', 'BLV': '62258', 'RFD': '61109', 'OGD': '84405', 'BOI': '83705', 'MFR': '97504', 'GTF': '59404', 'PSC': '99301', 'ICT': '67209', 'GRI': '68801', 'MRY': '93940', 'GJT': '81506', 'LRD': '78041', 'RAP': '57703', 'FCA': '33142', 'SMX': '93455', 'BZN': '59714', 'HGR': '21742', 'CKB': '26330', 'COS': '80916', 'OWB': '42301', 'HNL': '96819', 'OGG': '96732', 'KOA': '96740', 'LIH': '96766', 'ITO': '96720', 'COU': '65201', 'CPR': '82604', 'AVP': '18641', 'TUS': '85706', 'RDM': '97756', 'SBA': '93117', 'ASE': '81611', 'ONT': None, 'HLN': '59601', 'SUN': '83333', 'DRO': '81303', 'ISN': '58801', 'ACV': '95519', 'SBP': '93401', 'MMH': '93546', 'GEG': '99224', 'JAC': '83001', 'STS': '95403', 'SNA': '92707', 'RDD': '96002', 'BFL': '93308', 'HDN': '81639', 'MAF': '79706', 'ITH': '14850', 'LWS': '83501', 'PIH': '83204', 'ABR': '57401', 'COD': '82414', 'APN': '49707', 'ESC': '49829', 'PLN': '49769', 'BJI': '56601', 'BRD': '56401', 'BTM': '59701', 'CDC': '84721', 'SGU': '84790', 'CIU': '49788', 'MQT': '49841', 'EKO': '89801', 'HIB': '55746', 'BGM': '13790', 'TWF': '83301', 'RHI': '54501', 'INL': '56649', 'IMT': '49802', 'DAL': '75235', 'GTR': '39701', 'MLU': '71203', 'SCE': '29033', 'ERI': '16505', 'LSE': '54603', 'DLH': '55811', 'MDW': '60638', 'MKG': '49441', 'PUB': '81001', 'CMX': '49913', 'PAH': '42086', 'UIN': '62305', 'RKS': '82901', 'JMS': '58401', 'DVL': '58301', 'LAR': '82070', 'GCC': '82716', 'EAU': '54703', 'HYS': '67601', 'EGE': '81637', 'CGI': '63780', 'OTH': '97459', 'AMA': '79108', 'MIA': '33122', 'ISP': '11779', 'PPG': None, 'MKK': '96729', 'LNY': '96763', 'JHM': '96761', 'ACY': '08234', 'LBE': '15650', 'LBB': '79403', 'PNS': '32504', 'CRP': '78406', 'MLB': '32901', 'FAI': '99709', 'ANC': None, 'PHF': '23602', 'GUM': '64834', 'GUC': '81230', 'BET': '99559', 'ADQ': '99615', 'SCC': '99734', 'BRW': '99723', 'KTN': '99901', 'JNU': '99801', 'SIT': '99835', 'PSG': '99833', 'WRG': '99929', 'OME': '99762', 'OTZ': '99752', 'YAK': '99689', 'CDV': '99574', 'ADK': '99546', 'YKM': '98903', 'SAF': '87507', 'CMI': '61874', 'DIK': '58601', 'SPN': None, 'ROP': None, 'ALW': '99362', 'EAT': '98802', 'PUW': '99163', 'CLL': '77845', 'HOB': '88240', 'YNG': '44473', 'DUT': '99685', 'BFF': '69361', 'ACK': None, 'MVY': '02568', 'BKG': '65672', 'TYR': '75704', 'SJT': '76904', 'SPS': '76305', 'BPT': '77705', 'LAW': '73501', 'ACT': None, 'FLG': '86005', 'YUM': '85365', 'MEI': '39307', 'PIB': '39459', 'ROW': '88203', 'EAR': '68847', 'CNY': '84540', 'VEL': '84078', 'LWB': '24901', 'SHD': '24486', 'SLN': '67401', 'LBL': '67901', 'LBF': '69101', 'PRC': '86301', 'ABI': '79602', 'MHK': '66503', 'TXK': '71854', 'LYH': '24502', 'PGV': '27834', 'HVN': '06512', 'PQI': '04769', 'HHH': '29926', 'GGG': '75603', 'ALO': '50703', 'SUX': '51111', 'DBQ': '52003', 'GCK': '67846', 'SBY': '21804', 'IPT': '17754', 'FLO': '29506', 'SWO': '74075', 'JLN': '64870', 'ART': '13634', 'CYS': '82001', 'DRT': '78840', 'HYA': '02601', 'DLG': '99576', 'AKN': '99633', 'GST': '99826', 'WYS': '59758', 'PAE': '24148', 'XWA': 'Area,', 'BFM': '36615', 'ATY': '57201', 'PIR': '57501', 'RIW': '82501', 'SHR': '82801', 'CDB': '99571', 'DEC': '62521', 'DDC': '67801', 'ALS': '99701', 'VCT': '77905', 'JST': '15904', 'ILG': '19720', 'MCW': '50428', 'FOD': '50501', 'TBN': '65473', 'BIH': '93514'}\n"
     ]
    }
   ],
   "source": [
    "# 使用迴圈抓取機場簡稱的ZIP-CODE\n",
    "\n",
    "from selenium import webdriver\n",
    "from selenium.webdriver.common.keys import Keys\n",
    "from selenium.webdriver.chrome.service import Service\n",
    "from selenium.webdriver.common.by import By\n",
    "from bs4 import BeautifulSoup\n",
    "import time\n",
    "\n",
    "\n",
    "def getCode(nicknameList):\n",
    "    s = Service(\"./chromedriver.exe\")\n",
    "    driver = webdriver.Chrome(service=s)\n",
    "\n",
    "    driver.get('https://www.unitedstateszipcodes.org/')\n",
    "\n",
    "    time.sleep(1)\n",
    "    result = {};\n",
    "    # 進入網頁之後要在搜尋處key BOS Airport並搜尋\n",
    "    for nickname in nicknameList:\n",
    "        try:\n",
    "            element = driver.find_element(By.CLASS_NAME, \"form-control.tt-input\")\n",
    "        except:   \n",
    "            element = driver.find_element(By.CLASS_NAME, \"form-control.js-bound\")\n",
    "        \n",
    "        element.send_keys(Keys.CONTROL, 'a')\n",
    "        searchKey = (nickname + \" Airport\")\n",
    "        element.send_keys(searchKey) \n",
    "        button = driver.find_element(By.CLASS_NAME, \"fa.fa-search\")\n",
    "        button.click()\n",
    "\n",
    "        time.sleep(3)\n",
    "\n",
    "        # 進入後要撈取zip-code data\n",
    "        try:\n",
    "            h1element = driver.find_element(By.TAG_NAME,'h1')\n",
    "            result[nickname] = h1element.text.split(\" \")[2]\n",
    "        except Exception:\n",
    "            result[nickname] = None # 如果沒有data，value=None\n",
    "            print(\"can't find code \"+nickname)\n",
    "    driver.close()\n",
    "    return result\n",
    "\n",
    "# 讀取 missing_data.txt，並刪除換行'\\n'\n",
    "def readDataSource():\n",
    "    nick = open(\"./data/nickname_airport.txt\")\n",
    "    data = nick.read().splitlines()\n",
    "    nick_data = []\n",
    "    for line in data:\n",
    "        nick_data.append(line)\n",
    "    return nick_data\n",
    "\n",
    "\n",
    "readDataSource()    \n",
    "resultList= getCode(readDataSource())\n",
    "\n",
    "# 測試\n",
    "# test=['ATL', 'ABY']\n",
    "# resultList= getCode(test)\n",
    "\n",
    "print(resultList)\n",
    "\n",
    "# Ouput txt檔\n",
    "file = open(\"nick_zipcode.txt\",\"w\")\n",
    "for key in resultList.keys():\n",
    "    file.write(str(key)+\" \"+str(resultList[key]))\n",
    "    file.write(\"\\n\")\n",
    "file.close()\n"
   ]
  },
  {
   "cell_type": "code",
   "execution_count": 4,
   "id": "e1557bf0",
   "metadata": {},
   "outputs": [],
   "source": [
    "nick = open(\"./data/nickname_airport.txt\")\n",
    "data = nick.read().splitlines()\n",
    "nick_data = []\n",
    "for line in data:\n",
    "    nick_data.append(line)"
   ]
  },
  {
   "cell_type": "markdown",
   "id": "0f0ce1e6",
   "metadata": {},
   "source": [
    "# 抓取fullname_airport zip-code"
   ]
  },
  {
   "cell_type": "code",
   "execution_count": 6,
   "id": "6466425e",
   "metadata": {},
   "outputs": [
    {
     "name": "stdout",
     "output_type": "stream",
     "text": [
      "can't find code CYRIL E. KING AIRPORT, VI US\n",
      "can't find code SAN JUAN L M MARIN INTERNATIONAL AIRPORT, PR US\n",
      "can't find code HENRY E. ROHLSEN AIRPORT, VI US\n",
      "can't find code PAGO PAGO WEATHER SERVICE OFFICE AIRPORT, AS AQ\n",
      "{'MINOT INTERNATIONAL AIRPORT, ND US': '58703', 'BISMARCK MUNICIPAL AIRPORT, ND US': '58504', 'DOTHAN REGIONAL AIRPORT, AL US': '36303', 'HARLINGEN RIO GRANDE VALLEY INTERNATIONAL AIRPORT, TX US': '78550', 'SHREVEPORT AIRPORT, LA US': '71109', 'BANGOR INTERNATIONAL AIRPORT, ME US': '04401', 'GRNVL SPART INTERNATIONAL AIRPORT, SC US': 'ZIP', 'CHATTANOOGA AIRPORT, TN US': '37421', 'AKRON CANTON AIRPORT, OH US': '44720', 'CHARLOTTE DOUGLAS AIRPORT, NC US': '28208', 'LAGUARDIA AIRPORT, NY US': '11371', 'CHARLESTON INTL. AIRPORT, SC US': '29418', 'GREEN BAY A S INTERNATIONAL AIRPORT, WI US': 'Claire,', 'DES MOINES INTERNATIONAL AIRPORT, IA US': '50321', 'FAYETTEVILLE REGIONAL AIRPORT GRANNIS FIELD, NC US': '28306', 'KANSAS CITY INTERNATIONAL AIRPORT, MO US': '64153', 'JACKSONVILLE INTERNATIONAL AIRPORT, FL US': '32218', 'GREENSBORO AIRPORT, NC US': '27409', 'FORT SMITH REGIONAL AIRPORT, AR US': '72903', 'RALEIGH AIRPORT, NC US': '27560', 'LEXINGTON BLUEGRASS AIRPORT, KY US': 'Codes', 'LOUISVILLE INTERNATIONAL AIRPORT, KY US': '40209', 'LITTLE ROCK AIRPORT ADAMS FIELD, AR US': '72202', 'SYRACUSE HANCOCK INTERNATIONAL AIRPORT, NY US': '13212', 'TRAVERSE CITY CHERRY CAPITAL AIRPORT, MI US': '49686', 'COLUMBIA METROPOLITAN AIRPORT, SC US': '29170', 'NEW ORLEANS AIRPORT, LA US': '70062', 'SAVANNAH HILTON HEAD INTERNATIONAL AIRPORT, GA US': '31408', 'TULSA INTERNATIONAL AIRPORT, OK US': '74115', 'CINCINNATI NORTHERN KENTUCKY INTERNATIONAL AIRPORT, KY US': '41048', 'BATON ROUGE METRO AIRPORT, LA US': '70807', 'MEMPHIS INTERNATIONAL AIRPORT, TN US': '38116', 'WASHINGTON DULLES INTERNATIONAL AIRPORT, VA US': '20166', 'BURLINGTON INTERNATIONAL AIRPORT, VT US': '05403', 'DAYTON INTERNATIONAL AIRPORT, OH US': '45377', 'CLEVELAND HOPKINS INTERNATIONAL AIRPORT, OH US': '44135', 'KNOXVILLE AIRPORT, TN US': '37701', 'EVANSVILLE REGIONAL AIRPORT, IN US': '47725', 'JOHN GLENN INTERNATIONAL AIRPORT, OH US': 'Codes', 'INDIANAPOLIS INTERNATIONAL AIRPORT, IN US': '46241', 'ELMIRA CORNING REGIONAL AIRPORT, NY US': '14845', 'SAN ANTONIO INTERNATIONAL AIRPORT, TX US': '78216', 'TAMPA INTERNATIONAL AIRPORT, FL US': '33607', 'NASHVILLE INTERNATIONAL AIRPORT, TN US': '37214', 'JFK INTERNATIONAL AIRPORT, NY US': '11430', 'MONTGOMERY AIRPORT, AL US': '36108', 'HOUSTON INTERCONTINENTAL AIRPORT, TX US': '77032', 'MOBILE REGIONAL AIRPORT, AL US': '36608', 'CHARLOTTESVILLE ALBEMARLE AIRPORT, VA US': '22911', 'HARTFORD BRADLEY INTERNATIONAL AIRPORT, CT US': '06096', 'ASHEVILLE AIRPORT, NC US': '28732', 'HUNTSVILLE INTNL AIRPORT, AL US': 'Codes', 'GRAND RAPIDS GERALD R FORD INTERNATIONAL AIRPORT, MI US': '49512', 'NORFOLK INTERNATIONAL AIRPORT, VA US': '23455', 'KALAMAZOO BATTLE CREEK INTERNATIONAL AIRPORT, MI US': '49002', 'MANCHESTER AIRPORT, NH US': '03103', 'TALLAHASSEE REGIONAL AIRPORT, FL US': '32310', 'MIDDLETOWN HARRISBURG INTERNATIONAL AIRPORT, PA US': '17057', 'LANSING CAPITAL CITY AIRPORT, MI US': '48906', 'CHARLESTON YEAGER AIRPORT, WV US': '25311', 'DAL FTW WSCMO AIRPORT, TX US': 'Codes', 'COLUMBUS METROPOLITAN AIRPORT, GA US': '31909', 'BALTIMORE WASHINGTON INTERNATIONAL AIRPORT, MD US': '21240', 'WASHINGTON REAGAN NATIONAL AIRPORT, VA US': '22202', 'VALDOSTA REGIONAL AIRPORT, GA US': '31601', 'ROANOKE BLACKSBURG REGIONAL AIRPORT, VA US': '24012', 'FORT MYERS SW FLORIDA REGIONAL AIRPORT, FL US': '33913', 'RICHMOND INTERNATIONAL AIRPORT, VA US': '23250', 'FAYETTEVILLE SPRINGDALE NW AR REGL AIRPORT, AR US': 'Codes', 'GAINESVILLE REGIONAL AIRPORT, FL US': '32609', 'ORLANDO INTERNATIONAL AIRPORT, FL US': 'Airport,', 'ALBANY SW GEORGIA REGIONAL AIRPORT, GA US': '31701', 'WILMINGTON INTERNATIONAL AIRPORT, NC US': '28405', 'MADISON DANE CO REGIONAL AIRPORT, WI US': 'Claire,', 'FARGO HECTOR INTERNATIONAL AIRPORT, ND US': '58102', 'MILWAUKEE MITCHELL AIRPORT, WI US': '53207', 'GRAND FORKS INTERNATIONAL AIRPORT, ND US': '58203', 'ALEXANDRIA INTERNATIONAL AIRPORT, LA US': '71303', 'GENERAL WAYNE A. DOWNING INTERNATIONAL AIRPORT, IL US': '61607', 'MINNEAPOLIS ST. PAUL INTERNATIONAL AIRPORT, MN US': '55111', 'SAGINAW MBS INTERNATIONAL AIRPORT, MI US': '48623', 'BRISTOL AIRPORT, TN US': '05443', 'ATLANTA HARTSFIELD JACKSON INTERNATIONAL AIRPORT, GA US': '30320', 'SPRINGFIELD WEATHER SERVICE OFFICE AIRPORT, MO US': 'Codes', 'DETROIT METRO AIRPORT, MI US': '48242', 'ST LOUIS LAMBERT INTERNATIONAL AIRPORT, MO US': '63145', 'CHICAGO OHARE INTERNATIONAL AIRPORT, IL US': '60666', 'LAREDO INTERNATIONAL AIRPORT, TX US': '78041', 'EL PASO INTERNATIONAL AIRPORT, TX US': '79925', 'BOZEMAN GALLATIN FIELD AIRPORT, MT US': 'Codes', 'CYRIL E. KING AIRPORT, VI US': None, 'NIAGARA FALLS INTERNATIONAL AIRPORT, NY US': '14304', 'SOUTH BEND AIRPORT, IN US': '46628', 'ROCHESTER INTERNATIONAL AIRPORT, MN US': '55902', 'ST. CLOUD REGIONAL AIRPORT, MN US': '56304', 'LONG BEACH DAUGHERTY AIRPORT, CA US': '90806', 'BELLINGHAM INTERNATIONAL AIRPORT, WA US': '98226', 'MCCARRAN INTERNATIONAL AIRPORT, NV US': '89119', 'HAGERSTOWN REGIONAL AIRPORT, MD US': '21742', 'NEWARK LIBERTY INTERNATIONAL AIRPORT, NJ US': '07114', 'ALBANY INTERNATIONAL AIRPORT, NY US': '12211', 'ALLENTOWN LEHIGH VALLEY INTERNATIONAL AIRPORT, PA US': '18109', 'GRAND ISLAND CENTRAL NE REGIONAL AIRPORT, NE US': 'Codes', 'DAYTONA BEACH INTERNATIONAL AIRPORT, FL US': '32114', 'OKLAHOMA CITY WILL ROGERS WORLD AIRPORT, OK US': '73159', 'TOLEDO EXPRESS AIRPORT, OH US': '43558', 'SACRAMENTO METROPOLITAN AIRPORT, CA US': 'Codes', 'RAPID CITY REGIONAL AIRPORT, SD US': '57703', 'SAN JUAN L M MARIN INTERNATIONAL AIRPORT, PR US': None, 'ST PETERSBURG CLEARWATER INTERNATIONAL AIRPORT, FL US': '33762', 'SPRINGFIELD ABRAHAM LINCOLN CAPITAL AIRPORT, IL US': '62707', 'SARASOTA BRADENTON AIRPORT, FL US': '34243', 'BROWNSVILLE S PADRE ISLAND INTERNATIONAL AIRPORT, TX US': '78521', 'JACKSON INTERNATIONAL AIRPORT, MS US': '39208', 'LOS ANGELES INTERNATIONAL AIRPORT, CA US': '90045', 'HOUSTON WILLIAM P HOBBY AIRPORT, TX US': '77061', 'IDAHO FALLS FAA AIRPORT, ID US': 'Codes', 'AUGUSTA BUSH FIELD AIRPORT, GA US': '30906', 'GREAT FALLS AIRPORT, MT US': '59404', 'ALBUQUERQUE INTERNATIONAL AIRPORT, NM US': '87106', 'MCALLEN MILLER INTERNATIONAL AIRPORT, TX US': '78503', 'KEY WEST INTERNATIONAL AIRPORT, FL US': '33040', 'PORTLAND INTERNATIONAL AIRPORT, OR US': '97218', 'MONTEREY PENINSUL AIRPORT, CA US': 'Codes', 'LINCOLN AIRPORT, NE US': '68524', 'MEDFORD INTERNATIONAL AIRPORT, OR US': '97504', 'HUNTINGTON TRI STATE AIRPORT, WV US': '25704', 'LAKE CHARLES REGIONAL AIRPORT, LA US': '70607', 'WEST PALM BEACH INTERNATIONAL AIRPORT, FL US': '33406', 'LAFAYETTE REGIONAL AIRPORT, LA US': '70508', 'WESTCHESTER CO AIRPORT, NY US': '19380', 'ROCKFORD GREATER ROCKFORD AIRPORT, IL US': '61109', 'SEATTLE TACOMA AIRPORT, WA US': '98158', 'RENO AIRPORT, NV US': '89502', 'SAN DIEGO INTERNATIONAL AIRPORT, CA US': '92101', 'MISSOULA INTERNATIONAL AIRPORT, MT US': '59808', 'DENVER INTERNATIONAL AIRPORT, CO US': '80249', 'BILLINGS INTERNATIONAL AIRPORT, MT US': '59105', 'FORT LAUDERDALE INTERNATIONAL AIRPORT, FL US': '33004', 'PHILADELPHIA INTERNATIONAL AIRPORT, PA US': '19153', 'PHOENIX AIRPORT, AZ US': '85212', 'MONTROSE REGIONAL AIRPORT, CO US': '81401', 'FORT WAYNE INTERNATIONAL AIRPORT, IN US': '46809', 'KALISPELL GLACIER AIRPORT, MT US': '59901', 'PLATTSBURGH INTERNATIONAL AIRPORT, NY US': '12903', 'PUNTA GORDA CHARLOTTE CO AIRPORT, FL US': '33950', 'ORLANDO SANFORD AIRPORT, FL US': '32773', 'WICHITA DWIGHT D. EISENHOWER NATIONAL AIRPORT, KS US': '67209', 'CEDAR RAPIDS MUNICIPAL AIRPORT, IA US': '52404', 'TRENTON MERCER AIRPORT, NJ US': '08628', 'OAKLAND INTERNATIONAL AIRPORT, CA US': '94621', 'BURBANK GLENDALE PASADENA AIRPORT, CA US': '91505', 'SANTA MARIA PUBLIC AIRPORT, CA US': '93455', 'AUSTIN BERGSTROM INTERNATIONAL AIRPORT, TX US': '78719', 'PASCO TRI CITIES AIRPORT, WA US': '99301', 'CLARKSBURG BENEDUM AIRPORT, WV US': '26330', 'STOCKTON AIRPORT, CA US': '95206', 'SAN FRANCISCO INTERNATIONAL AIRPORT, CA US': '94128', 'OGDEN HINKLEY AIRPORT, UT US': 'Codes', 'SALT LAKE CITY INTERNATIONAL AIRPORT, UT US': '84122', 'NORTHWEST FLORIDA BEACHES INTERNATIONAL AIRPORT, FL US': '32409', 'MOLINE QUAD CITY INTERNATIONAL AIRPORT, IL US': '61264', 'HENRY E. ROHLSEN AIRPORT, VI US': None, 'GULFPORT BILOXI AIRPORT, MS US': '39503', 'BIRMINGHAM AIRPORT, AL US': '35212', 'ASPEN PITKIN CO AIRPORT SARDY FIELD, CO US': 'Codes:', 'LUBBOCK INTERNATIONAL AIRPORT, TX US': 'Airport,', 'TUCSON INTERNATIONAL AIRPORT, AZ US': '85756', 'RHINELANDER ONEIDA CO AIRPORT, WI US': '54501', 'PAGO PAGO WEATHER SERVICE OFFICE AIRPORT, AS AQ': None, 'ABERDEEN REGIONAL AIRPORT, SD US': '57401', 'AMARILLO AIRPORT, TX US': '79111', 'KODIAK AIRPORT, AK US': '99615', 'BUTTE BERT MOONEY AIRPORT, MT US': '59701', 'REDDING AIRPORT, CA US': '96002', 'WILKES BARRE SCRANTON INTERNATIONAL AIRPORT, PA US': '18641', 'HANCOCK HOUGHTON CO AIRPORT, MI US': '49930', 'NEWPORT NEWS INTERNATIONAL AIRPORT, VA US': 'Area,', 'QUINCY REGIONAL AIRPORT, IL US': '62305', 'HELENA AIRPORT ASOS, MT US': 'Codes', 'SANTA ANA JOHN WAYNE AIRPORT, CA US': '92707', 'LARAMIE AIRPORT, WY US': '82001', 'MIAMI INTERNATIONAL AIRPORT, FL US': '33122', 'MELBOURNE INTERNATIONAL AIRPORT, FL US': '32901', 'COLUMBIA REGIONAL AIRPORT, MO US': '65201', 'KAILUA KONA KE AHOLE AIRPORT, HI US': '96740', 'GUAM INTERNATIONAL AIRPORT, GU GQ': 'MO', 'ROCK SPRINGS AIRPORT, WY US': '29164', 'LEWISTON AIRPORT, ID US': '83501', 'HONOLULU INTERNATIONAL AIRPORT, HI US': '96819', 'ONTARIO INTERNATIONAL AIRPORT, CA US': '91761', 'SANTA ROSA SONOMA CO AIRPORT, CA US': '95403', 'KAPALUA W. MAUI AIRPORT 462.4, HI US': 'Codes', 'KAHULUI AIRPORT, HI US': '96732', 'HILO INTERNATIONAL AIRPORT 87, HI US': 'Codes', 'JUNEAU AIRPORT, AK US': '99801', 'PUEBLO MEMORIAL AIRPORT, CO US': '81001', 'PADUCAH BARKLEY REGIONAL AIRPORT, KY US': '42086', 'ATLANTIC CITY INTERNATIONAL AIRPORT, NJ US': '08234', 'PENSACOLA REGIONAL AIRPORT, FL US': '32504', 'ERIE INTERNATIONAL AIRPORT, PA US': '16505', 'FAIRBANKS INTERNATIONAL AIRPORT, AK US': '99709', 'POCATELLO REGIONAL AIRPORT, ID US': '83204', 'REDMOND AIRPORT, OR US': '97756', 'MIDLAND INTERNATIONAL AIRPORT, TX US': '79706', 'ANCHORAGE TED STEVENS INTERNATIONAL AIRPORT, AK US': 'Codes', 'GILLETTE CAMPBELL CO AIRPORT, WY US': '82716', 'CAPE GIRARDEAU MUNICIPAL AIRPORT, MO US': '63780', 'CORPUS CHRISTI INTERNATIONAL AIRPORT, TX US': '78406', 'MOLOKAI KAUNAKAKAI MOLOKAI AIRPORT, HI US': '96729', 'ISLIP LI MACARTHUR AIRPORT, NY US': '11779', 'LIHUE WEATHER SERVICE OFFICE AIRPORT 1020.1, HI US': 'Codes', 'BETHEL AIRPORT, AK US': '99559', 'KETCHIKAN AIRPORT, AK US': '99901', 'SPOKANE INTERNATIONAL AIRPORT, WA US': '99224', 'BARROW AIRPORT, AK US': '99789', 'BRAINERD CROW WING CO AIRPORT, MN US': '56401', 'DULUTH INTERNATIONAL AIRPORT, MN US': '55811', 'DURANGO LA PLATA CO AIRPORT, CO US': '81303', 'HIBBING CHISHOLM HIBBING AIRPORT, MN US': '55746', 'MONROE REGIONAL AIRPORT, LA US': '71203', 'CEDAR CITY AIRPORT, UT US': '84721', 'CHIPPEWA VALLEY REGIONAL AIRPORT, WI US': '54703', 'CASPER NATRONA CO AIRPORT, WY US': '82604', 'SITKA AIRPORT, AK US': '99835', 'BAKERSFIELD AIRPORT, CA US': '93308', 'ELKO REGIONAL AIRPORT, NV US': '89801', 'ARCATA EUREKA AIRPORT, CA US': '95519', 'CHICAGO MIDWAY AIRPORT 3 SW, IL US': 'Codes', 'NORTH BEND SOUTHWEST OREGON REGIONAL AIRPORT, OR US': '97459', 'TWIN FALLS SUN VALLEY REGIONAL AIRPORT, ID US': '83301', 'MARQUETTE WEATHER SERVICE OFFICE AIRPORT, MI US': 'Codes', 'IRON MOUNTAIN FORD AIRPORT, MI US': '49802', 'INTERNATIONAL FALLS INTERNATIONAL AIRPORT, MN US': '56649', 'JAMESTOWN MUNICIPAL AIRPORT, ND US': '58401', 'ALPENA CO REGIONAL AIRPORT, MI US': 'Codes', 'MUSKEGON CO AIRPORT, MI US': '49441', 'PELLSTON REGIONAL AIRPORT, MI US': '49769', 'LA CROSSE MUNICIPAL AIRPORT, WI US': '54603', 'COLORADO SPRINGS MUNICIPAL AIRPORT, CO US': '80916', 'SANTA BARBARA MUNICIPAL AIRPORT, CA US': '93117', 'DICKINSON THEODORE ROOSEVELT REGIONAL AIRPORT, ND US': '58601', 'LAWTON MUNICIPAL AIRPORT, OK US': '73501', 'MOAB CANYONLAND AIRPORT, UT US': 'Codes', 'JOHNSTOWN CAMBRIA CO AIRPORT, PA US': '15902', 'WACO REGIONAL AIRPORT, TX US': '76708', 'MOBILE DOWNTOWN AIRPORT, AL US': '36615', 'CHEYENNE WSFO AIRPORT, WY US': '82001', 'KING SALMON AIRPORT, AK US': '99613', 'COLD BAY AIRPORT, AK US': '99571', 'SANTA FE CO MUNICIPAL AIRPORT, NM US': '87401', 'YOUNGSTOWN WARREN REGIONAL AIRPORT, OH US': '44473', 'WILLIAMSPORT REGIONAL AIRPORT, PA US': '17754', 'WICHITA FALLS MUNICIPAL AIRPORT, TX US': '76311', 'WENATCHEE PANGBORN MEMORIAL AIRPORT, WA US': '98802', 'ABILENE REGIONAL AIRPORT, TX US': '79602', 'WATERLOO MUNICIPAL AIRPORT, IA US': '50703', 'NORTH PLATTE REGIONAL AIRPORT, NE US': '69101', 'FLAGSTAFF AIRPORT, AZ US': 'Codes', 'VERNAL MUNICIPAL AIRPORT, UT US': 'Codes', 'EVERETT SNOHOMISH CO AIRPORT, WA US': '98204', 'PORT ARTHUR SE TX REGIONAL AIRPORT, TX US': 'Codes', 'WATERTOWN AIRPORT, NY US': '13634', 'CHAMPAIGN URBANA WILLARD AIRPORT, IL US': '61874', 'RIVERTON REGIONAL AIRPORT, WY US': '82501', 'LONGVIEW E TX REGIONAL AIRPORT, TX US': 'Codes', 'VICTORIA REGIONAL AIRPORT, TX US': '77905', 'SHERIDAN AIRPORT, WY US': '82801', 'SCOTTSBLUFF W B HEILIG FIELD AIRPORT, NE US': 'Codes', 'PIERRE REGIONAL AIRPORT, SD US': '57501', 'MASON CITY MUNICIPAL AIRPORT, IA US': '50428', 'SIOUX CITY AIRPORT, IA US': 'Codes', 'DUBUQUE REGIONAL AIRPORT, IA US': '52003', 'WATERTOWN REGIONAL AIRPORT, SD US': '57201', 'LYNCHBURG REGIONAL AIRPORT, VA US': '24502', 'CORDOVA AIRPORT, AK US': '99574', 'GARDEN CITY REGIONAL AIRPORT, KS US': '67846', 'DEL RIO INTERNATIONAL AIRPORT, TX US': '78840', 'NOME AIRPORT, AK US': '99762', 'KOTZEBUE AIRPORT, AK US': '99752', 'WILMINGTON NEW CASTLE CO AIRPORT, DE US': 'Codes', 'NANTUCKET MEMORIAL AIRPORT, MA US': '02554', 'NEW HAVEN TWEED AIRPORT, CT US': '06512', 'SALISBURY WICOMICO REGIONAL AIRPORT, MD US': '21804', 'JOPLIN REGIONAL AIRPORT, MO US': '64870', 'FLORENCE REGIONAL AIRPORT, SC US': '29506', 'DODGE CITY REGIONAL AIRPORT, KS US': '67801', 'YAKIMA AIRPORT, WA US': '98903', 'SAN ANGELO MATHIS FIELD AIRPORT, TX US': '76904', 'DECATUR AIRPORT, IL US': '62521', 'STILLWATER REGIONAL AIRPORT, OK US': '74075', 'WALLA WALLA REGIONAL AIRPORT, WA US': '99362', 'YAKUTAT AIRPORT, AK US': '99689', 'BISHOP AIRPORT, CA US': '93514', 'HYANNIS BARNSTABLE MUNICIPAL AIRPORT, MA US': '02601', 'PULLMAN MOSCOW REGIONAL AIRPORT, WA US': '99163', 'VINEYARD HAVEN MARTHAS VINEYARD AIRPORT, MA US': '02568', 'SALINA MUNICIPAL AIRPORT, KS US': '67401'}\n"
     ]
    }
   ],
   "source": [
    "# 使用迴圈抓取機場簡稱的ZIP-CODE\n",
    "\n",
    "from selenium import webdriver\n",
    "from selenium.webdriver.common.keys import Keys\n",
    "from selenium.webdriver.chrome.service import Service\n",
    "from selenium.webdriver.common.by import By\n",
    "from bs4 import BeautifulSoup\n",
    "import time\n",
    "\n",
    "\n",
    "def getCode(fullnameList):\n",
    "    s = Service(\"./chromedriver.exe\")\n",
    "    driver = webdriver.Chrome(service=s)\n",
    "\n",
    "    driver.get('https://www.unitedstateszipcodes.org/')\n",
    "\n",
    "    time.sleep(1)\n",
    "    result = {};\n",
    "    # 進入網頁之後要在搜尋處key BOS Airport並搜尋\n",
    "    for fullname in fullnameList:\n",
    "        try:\n",
    "            element = driver.find_element(By.CLASS_NAME, \"form-control.tt-input\")\n",
    "        except:   \n",
    "            element = driver.find_element(By.CLASS_NAME, \"form-control.js-bound\")\n",
    "        \n",
    "        element.send_keys(Keys.CONTROL, 'a')\n",
    "        searchKey = (fullname)\n",
    "        element.send_keys(searchKey) \n",
    "        button = driver.find_element(By.CLASS_NAME, \"fa.fa-search\")\n",
    "        button.click()\n",
    "\n",
    "        time.sleep(1)\n",
    "\n",
    "        # 進入後要撈取zip-code data\n",
    "        try:\n",
    "            h1element = driver.find_element(By.TAG_NAME,'h1')\n",
    "            result[fullname] = h1element.text.split(\" \")[2]\n",
    "        except Exception:\n",
    "            result[fullname] = None # 如果沒有data，value=None\n",
    "            print(\"can't find code \"+ fullname)\n",
    "    driver.close()\n",
    "    return result\n",
    "\n",
    "# 讀取 missing_data.txt，並刪除換行'\\n'\n",
    "def readDataSource():\n",
    "    full = open(\"./data/fullname_airport.txt\")\n",
    "    data = full.read().splitlines()\n",
    "    full_data = []\n",
    "    for line in data:\n",
    "        full_data.append(line)\n",
    "    return full_data\n",
    "\n",
    "\n",
    "readDataSource()    \n",
    "resultList= getCode(readDataSource())\n",
    "\n",
    "# 測試\n",
    "# test=['MINOT INTERNATIONAL AIRPORT, ND US', 'BISMARCK MUNICIPAL AIRPORT, ND US']\n",
    "# resultList= getCode(test)\n",
    "\n",
    "print(resultList)\n",
    "\n",
    "# Ouput txt檔\n",
    "file = open(\"full_zipcode.txt\",\"w\")\n",
    "for key in resultList.keys():\n",
    "    file.write(str(key)+\";\"+str(resultList[key]))\n",
    "    file.write(\"\\n\")\n",
    "file.close()\n"
   ]
  },
  {
   "cell_type": "code",
   "execution_count": null,
   "id": "a880cf58",
   "metadata": {},
   "outputs": [],
   "source": []
  }
 ],
 "metadata": {
  "kernelspec": {
   "display_name": "Python 3 (ipykernel)",
   "language": "python",
   "name": "python3"
  },
  "language_info": {
   "codemirror_mode": {
    "name": "ipython",
    "version": 3
   },
   "file_extension": ".py",
   "mimetype": "text/x-python",
   "name": "python",
   "nbconvert_exporter": "python",
   "pygments_lexer": "ipython3",
   "version": "3.9.12"
  }
 },
 "nbformat": 4,
 "nbformat_minor": 5
}
